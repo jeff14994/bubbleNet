{
 "cells": [
  {
   "cell_type": "code",
   "execution_count": 1,
   "metadata": {
    "collapsed": true
   },
   "outputs": [],
   "source": [
    "from pyspark.sql import SparkSession\n",
    "import pyspark.sql.functions as F\n",
    "from pyspark.sql import DataFrame\n",
    "spark = SparkSession.builder.appName(\"data_processing\").getOrCreate()\n"
   ]
  },
  {
   "cell_type": "code",
   "execution_count": null,
   "outputs": [],
   "source": [
    "# give the"
   ],
   "metadata": {
    "collapsed": false,
    "pycharm": {
     "name": "#%%\n"
    }
   }
  },
  {
   "cell_type": "code",
   "execution_count": 2,
   "outputs": [
    {
     "data": {
      "text/plain": "[StructField(_c0,StringType,true),\n StructField(ANIP,StringType,true),\n StructField(Lat,StringType,true),\n StructField(Lon,StringType,true),\n StructField(Country,StringType,true),\n StructField(Region,StringType,true),\n StructField(City,StringType,true),\n StructField(TZ,StringType,true),\n StructField(ASN,StringType,true),\n StructField(ISP,StringType,true)]"
     },
     "execution_count": 2,
     "metadata": {},
     "output_type": "execute_result"
    }
   ],
   "source": [
    "data_dir = \"./src_data\"\n",
    "geo_ip = spark.read.option(\"header\", \"true\").option('delimiter', ';').csv(f\"{data_dir}/Aux_1A_Geolocation.csv\")\n",
    "geo_ip.schema.fields"
   ],
   "metadata": {
    "collapsed": false,
    "pycharm": {
     "name": "#%%\n"
    }
   }
  },
  {
   "cell_type": "code",
   "execution_count": 3,
   "outputs": [
    {
     "data": {
      "text/plain": "[StructField(ip,StringType,true),\n StructField(numrecords,IntegerType,true),\n StructField(avgdomainsinrecords,DoubleType,true),\n StructField(stddevdomainsinrecords,DoubleType,true),\n StructField(maxdomainsinrecords,IntegerType,true),\n StructField(mediandomainsinrecords,DoubleType,true),\n StructField(avglenrecords,DoubleType,true),\n StructField(stddevlenrecords,DoubleType,true),\n StructField(maxlenrecords,IntegerType,true),\n StructField(medianlenrecords,DoubleType,true),\n StructField(avgsimilarityrecords,DoubleType,true),\n StructField(stddevsimilarityrecords,DoubleType,true),\n StructField(maxsimilarityrecords,DoubleType,true),\n StructField(mediansimilarityrecords,DoubleType,true),\n StructField(avgentropyrecords,DoubleType,true),\n StructField(stddeventropyrecords,DoubleType,true),\n StructField(maxentropyrecords,DoubleType,true),\n StructField(medianentropyrecords,DoubleType,true),\n StructField(avgmaxconsecutivecharsrecords,DoubleType,true),\n StructField(stddevmaxconsecutivecharsrecords,DoubleType,true),\n StructField(maxmaxconsecutivecharsrecords,IntegerType,true),\n StructField(medianmaxconsecutivecharsrecords,DoubleType,true),\n StructField(avglenlowleveldomains,DoubleType,true),\n StructField(stddevlenlowleveldomains,DoubleType,true),\n StructField(maxlenlowleveldomains,IntegerType,true),\n StructField(medianlenlowleveldomains,DoubleType,true),\n StructField(avgsimilaritylowleveldomains,DoubleType,true),\n StructField(stddevsimilaritylowleveldomains,DoubleType,true),\n StructField(maxsimilaritylowleveldomains,DoubleType,true),\n StructField(mediansimilaritylowleveldomains,DoubleType,true),\n StructField(avgentropylowleveldomains,DoubleType,true),\n StructField(stddeventropylowleveldomains,DoubleType,true),\n StructField(maxentropylowleveldomains,DoubleType,true),\n StructField(medianentropylowleveldomains,DoubleType,true),\n StructField(avgmaxconsecutiecharslowleveldomains,DoubleType,true),\n StructField(stddevmaxconsecutiecharslowleveldomains,DoubleType,true),\n StructField(maxmaxconsecutiecharslowleveldomains,IntegerType,true),\n StructField(medianmaxconsecutiecharslowleveldomains,DoubleType,true)]"
     },
     "execution_count": 3,
     "metadata": {},
     "output_type": "execute_result"
    }
   ],
   "source": [
    "passive_dns = spark.read.csv(f\"{data_dir}/Aux_2_PassiveDNS.csv\", header=True, inferSchema=True)\n",
    "passive_dns.schema.fields"
   ],
   "metadata": {
    "collapsed": false,
    "pycharm": {
     "name": "#%%\n"
    }
   }
  },
  {
   "cell_type": "code",
   "execution_count": 4,
   "outputs": [],
   "source": [
    "dataset = spark.read.json(f\"./src_data/dataset.idea/dataset.idea\")"
   ],
   "metadata": {
    "collapsed": false,
    "pycharm": {
     "name": "#%%\n"
    }
   }
  },
  {
   "cell_type": "code",
   "execution_count": 5,
   "outputs": [],
   "source": [
    "from data_processing.utils.util import pre_process_dataset\n",
    "\n",
    "dataset = pre_process_dataset(dataset)"
   ],
   "metadata": {
    "collapsed": false,
    "pycharm": {
     "name": "#%%\n"
    }
   }
  },
  {
   "cell_type": "code",
   "execution_count": 6,
   "outputs": [
    {
     "data": {
      "text/plain": "4875902"
     },
     "execution_count": 6,
     "metadata": {},
     "output_type": "execute_result"
    }
   ],
   "source": [
    "dataset.count()"
   ],
   "metadata": {
    "collapsed": false,
    "pycharm": {
     "name": "#%%\n"
    }
   }
  },
  {
   "cell_type": "markdown",
   "source": [],
   "metadata": {
    "collapsed": false
   }
  },
  {
   "cell_type": "code",
   "execution_count": 18,
   "outputs": [],
   "source": [
    "from data_processing.utils.util import get_source_data\n",
    "\n",
    "geo_enriched_data_src = get_source_data(dataset, geo_ip, include_long_lat=True, include_region=True)\n"
   ],
   "metadata": {
    "collapsed": false,
    "pycharm": {
     "name": "#%%\n"
    }
   }
  },
  {
   "cell_type": "markdown",
   "source": [],
   "metadata": {
    "collapsed": false
   }
  },
  {
   "cell_type": "code",
   "execution_count": 19,
   "outputs": [],
   "source": [
    "from data_processing.utils.util import get_target_data\n",
    "\n",
    "geo_enriched_data_tgt = get_target_data(dataset, geo_ip, include_long_lat=True, include_region=True)\n"
   ],
   "metadata": {
    "collapsed": false,
    "pycharm": {
     "name": "#%%\n"
    }
   }
  },
  {
   "cell_type": "code",
   "execution_count": 20,
   "outputs": [],
   "source": [
    "geo_enriched_data_tgt = geo_enriched_data_tgt.select(\"ID\", \"EventTime\", \"TargetCountry\", \"TargetCountry\", \"TargetLongitude\", \"TargetRegion\")\n",
    "geo_enriched_data_src = geo_enriched_data_src.select(\"ID\", \"EventTime\", \"SourceCountry\", \"SourceLongitude\", \"SourceLatitude\", \"SourceRegion\")"
   ],
   "metadata": {
    "collapsed": false,
    "pycharm": {
     "name": "#%%\n"
    }
   }
  },
  {
   "cell_type": "code",
   "execution_count": 21,
   "outputs": [
    {
     "name": "stdout",
     "output_type": "stream",
     "text": [
      "+--------------------+-------------+---------------+--------------+-----------------+-------------------+-------------+-------------+---------------+-------------+\n",
      "|                  ID|SourceCountry|SourceLongitude|SourceLatitude|     SourceRegion|          EventTime|TargetCountry|TargetCountry|TargetLongitude| TargetRegion|\n",
      "+--------------------+-------------+---------------+--------------+-----------------+-------------------+-------------+-------------+---------------+-------------+\n",
      "|0001a9a1-76fe-49f...|           CN|       117.0225|       25.1072|           Fujian|2019-03-12 09:42:03|           CZ|           CZ|        15.5833|Kraj Vysocina|\n",
      "|00026cdf-9e78-46b...|           FR|         6.0637|       48.7497|        Grand Est|2019-03-15 00:53:04|           CZ|           CZ|        15.5833|Kraj Vysocina|\n",
      "|00044461-b455-4fc...|           RU|        66.6019|         66.53|    Yamalo-Nenets|2019-03-15 14:32:39|           CZ|           CZ|        14.4378|        Praha|\n",
      "|00051a95-d196-4b9...|           CN|       119.6442|       29.1068|         Zhejiang|2019-03-12 19:09:52|           CZ|           CZ|        15.5833|Kraj Vysocina|\n",
      "|00060414-7872-46b...|           EG|        31.2109|       30.0081|             Giza|2019-03-11 18:00:32|           CZ|           CZ|        15.5833|Kraj Vysocina|\n",
      "|0008172f-831c-429...|           BG|        24.7088|       42.9172|           Lovech|2019-03-13 09:52:44|           CZ|           CZ|        15.5833|Kraj Vysocina|\n",
      "|000a5e99-b892-44a...|           VN|        106.659|       10.8061|      Ho Chi Minh|2019-03-10 17:55:34|           CZ|           CZ|        15.5833|Kraj Vysocina|\n",
      "|000b5968-bb62-439...|           US|       -78.8753|        42.893|         New York|2019-03-17 04:42:19|           CZ|           CZ|        15.5833|Kraj Vysocina|\n",
      "|000d15b9-4bf0-4ac...|           BR|       -46.5638|      -23.6266|        Sao Paulo|2019-03-14 19:32:19|           CZ|           CZ|        15.5833|Kraj Vysocina|\n",
      "|000f3004-f111-475...|           TN|        10.1969|       36.8491|            Tūnis|2019-03-12 07:07:27|           CZ|           CZ|        15.5833|Kraj Vysocina|\n",
      "|001b5f41-f949-457...|           RU|        61.3366|       55.1968|      Chelyabinsk|2019-03-10 22:08:47|           CZ|           CZ|        14.4378|        Praha|\n",
      "|001b8765-bc27-45e...|           GB|          0.085|       51.7878|          England|2019-03-11 19:16:34|           CZ|           CZ|        15.5833|Kraj Vysocina|\n",
      "|001be5ee-c051-47c...|           ES|        -5.2405|       40.1552|Castille and León|2019-03-17 14:42:00|           CZ|           CZ|        15.5833|Kraj Vysocina|\n",
      "|001fda42-2e62-45e...|           JP|       139.7532|       35.6882|            Tokyo|2019-03-12 00:35:22|           CZ|           CZ|        15.5833|Kraj Vysocina|\n",
      "|0021c35e-c11e-48a...|           TW|       120.3139|       22.6148|        Kaohsiung|2019-03-13 19:28:14|           CZ|           CZ|        15.5833|Kraj Vysocina|\n",
      "|0025508b-01c1-404...|           RO|        24.2966|       46.3319|    Judetul Mures|2019-03-11 03:12:54|           CZ|           CZ|        14.4378|        Praha|\n",
      "|002a5357-3ff6-4e0...|           RU|        41.9734|       45.0428|  Stavropol’ Kray|2019-03-11 14:02:54|           CZ|           CZ|        15.5833|Kraj Vysocina|\n",
      "|002c69ae-42f0-4e3...|           ZA|        31.0218|      -29.8587|    KwaZulu-Natal|2019-03-16 07:45:45|           CZ|           CZ|        15.5833|Kraj Vysocina|\n",
      "|002ebf3d-4c45-463...|           RU|        47.4911|       42.9784|         Dagestan|2019-03-14 10:23:10|           CZ|           CZ|        14.4378|        Praha|\n",
      "|00313ee3-ec98-4eb...|           ID|        106.825|      -6.23904|          Jakarta|2019-03-11 08:18:46|           CZ|           CZ|        15.5833|Kraj Vysocina|\n",
      "+--------------------+-------------+---------------+--------------+-----------------+-------------------+-------------+-------------+---------------+-------------+\n",
      "only showing top 20 rows\n",
      "\n"
     ]
    }
   ],
   "source": [
    "geo_enriched_data = geo_enriched_data_src.join(geo_enriched_data_tgt, on=\"ID\", how=\"inner\")\n",
    "geo_enriched_data.show()"
   ],
   "metadata": {
    "collapsed": false,
    "pycharm": {
     "name": "#%%\n"
    }
   }
  },
  {
   "cell_type": "markdown",
   "source": [],
   "metadata": {
    "collapsed": false
   }
  },
  {
   "cell_type": "code",
   "execution_count": null,
   "outputs": [],
   "source": [],
   "metadata": {
    "collapsed": false,
    "pycharm": {
     "name": "#%%\n"
    }
   }
  }
 ],
 "metadata": {
  "kernelspec": {
   "display_name": "Python 3",
   "language": "python",
   "name": "python3"
  },
  "language_info": {
   "codemirror_mode": {
    "name": "ipython",
    "version": 2
   },
   "file_extension": ".py",
   "mimetype": "text/x-python",
   "name": "python",
   "nbconvert_exporter": "python",
   "pygments_lexer": "ipython2",
   "version": "2.7.6"
  }
 },
 "nbformat": 4,
 "nbformat_minor": 0
}